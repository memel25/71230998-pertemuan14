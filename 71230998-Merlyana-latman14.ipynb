{
 "cells": [
  {
   "cell_type": "code",
   "execution_count": 3,
   "id": "75c1d70c",
   "metadata": {},
   "outputs": [
    {
     "name": "stdout",
     "output_type": "stream",
     "text": [
      "8 bukan bilangan Prima, dapat dibagi dengan angka 2\n",
      "11 adalah bilangan Prima\n"
     ]
    }
   ],
   "source": [
    "def primcek(angk,awal=2):\n",
    "  if awal == angk:\n",
    "    return (f\"{angk} adalah bilangan Prima\")\n",
    "  elif angk % awal == 0:\n",
    "    return (f\"{angk} bukan bilangan Prima, dapat dibagi dengan angka {awal}\")\n",
    "  else:\n",
    "    return primcek(angk,awal+1)\n",
    "\n",
    "print (primcek(8))\n",
    "print (primcek(11))"
   ]
  },
  {
   "cell_type": "code",
   "execution_count": 5,
   "id": "03349e2b",
   "metadata": {},
   "outputs": [
    {
     "name": "stdout",
     "output_type": "stream",
     "text": [
      "\"Kasur rusak\" ini Palindrome\n",
      "\"Assalamualikum ukhtieeee\" bukan Palindrome\n"
     ]
    }
   ],
   "source": [
    "def palpal(string,indeks = 0):\n",
    "  string = string.lower()\n",
    "  string1 = string[::-1]\n",
    "  if indeks == len(string)-1:\n",
    "    if string [indeks] == string1 [indeks]:\n",
    "      return (f\"\\\"{string.capitalize()}\\\" ini Palindrome\")\n",
    "    else:\n",
    "      return (f\"\\\"{string.capitalize()}\\\" ini bukan Palindrome\")\n",
    "  elif string [indeks] == string1 [indeks]:\n",
    "    return palpal(string1,indeks+1)\n",
    "  elif string [indeks] != string1 [indeks]:\n",
    "    return (f\"\\\"{string.capitalize()}\\\" bukan Palindrome\")\n",
    "\n",
    "print (palpal(\"Kasur rusak\"))\n",
    "print (palpal(\"Assalamualikum ukhtieeee\"))  "
   ]
  },
  {
   "cell_type": "code",
   "execution_count": 7,
   "id": "88b1570c",
   "metadata": {},
   "outputs": [
    {
     "name": "stdout",
     "output_type": "stream",
     "text": [
      "81\n"
     ]
    }
   ],
   "source": [
    "def totaljil(angka,total=set(),step=0):\n",
    "    try:\n",
    "      angka = int(angka)\n",
    "      if angka < len(total):\n",
    "          return totaljil(angka,set(),0)\n",
    "      elif len(total) == angka:\n",
    "          return (sum(total))\n",
    "      elif step % 2 == 0:\n",
    "          return totaljil(angka,total,step+1)\n",
    "      else:\n",
    "          total.add(step)\n",
    "          return totaljil(angka,total,step+1)\n",
    "    except:\n",
    "        return (\"Maaf input yang diminta adalah angka\")      \n",
    "    \n",
    "print (totaljil(9))"
   ]
  },
  {
   "cell_type": "code",
   "execution_count": 8,
   "id": "79088895",
   "metadata": {},
   "outputs": [
    {
     "name": "stdout",
     "output_type": "stream",
     "text": [
      "24\n"
     ]
    }
   ],
   "source": [
    "def initotal(angka,step=0,total=0):\n",
    "    try:\n",
    "      angka = int(angka)\n",
    "      if step == ((len(str(angka)))-1):\n",
    "          total += int(str(angka)[step])\n",
    "          return total\n",
    "      else:\n",
    "          total += int(str(angka)[step])\n",
    "          return initotal(angka,step+1,total)\n",
    "    except:\n",
    "        return (\"input yang diminta adalah angka\")      \n",
    "    \n",
    "print (initotal(888))"
   ]
  },
  {
   "cell_type": "code",
   "execution_count": 10,
   "id": "cfed9c6b",
   "metadata": {},
   "outputs": [
    {
     "name": "stdout",
     "output_type": "stream",
     "text": [
      "35\n"
     ]
    }
   ],
   "source": [
    "def hitungkombi(n,r,sn=1,sr=1,snr=1,tn=1,tr=1,tnr=1):\n",
    "  nr = n-r\n",
    "  if sn != n+1:\n",
    "    tn *= sn\n",
    "    return hitungkombi(n,r,sn+1,sr,snr,tn,tr,tnr)\n",
    "  elif sr != r+1:\n",
    "    tr *= sr\n",
    "    return hitungkombi(n,r,sn,sr+1,snr,tn,tr,tnr)\n",
    "  elif snr != nr+1:\n",
    "    tnr *= snr\n",
    "    return hitungkombi(n,r,sn,sr,snr+1,tn,tr,tnr)\n",
    "  else:\n",
    "    a = tn/(tr*tnr)\n",
    "    return a\n",
    "\n",
    "print (int(hitungkombi(7,4)))"
   ]
  },
  {
   "cell_type": "code",
   "execution_count": null,
   "id": "d3dd3298",
   "metadata": {},
   "outputs": [],
   "source": []
  }
 ],
 "metadata": {
  "kernelspec": {
   "display_name": "Python 3 (ipykernel)",
   "language": "python",
   "name": "python3"
  },
  "language_info": {
   "codemirror_mode": {
    "name": "ipython",
    "version": 3
   },
   "file_extension": ".py",
   "mimetype": "text/x-python",
   "name": "python",
   "nbconvert_exporter": "python",
   "pygments_lexer": "ipython3",
   "version": "3.11.5"
  }
 },
 "nbformat": 4,
 "nbformat_minor": 5
}
